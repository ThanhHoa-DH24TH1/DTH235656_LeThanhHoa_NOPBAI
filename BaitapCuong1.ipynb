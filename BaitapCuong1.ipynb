{
 "cells": [
  {
   "cell_type": "code",
   "execution_count": null,
   "id": "96635d49",
   "metadata": {
    "vscode": {
     "languageId": "plaintext"
    }
   },
   "outputs": [],
   "source": [
    "print(\"Hello World!\")\n",
    "print(\"Albert Einstein đã từng nói: Một người không bao giờ mắc sai lầm không bao giờ thử bất kì điều gì mif 5 > 2:\n",
    "print(\"Five is greater than tow!\")ới.\")\n",
    "total=0\n",
    "total=1+\\\n",
    "2+\\\n",
    "3\n",
    "print(total);print(\"Hello Python!\")\n",
    "if True:\n",
    "  print(\"True\")\n",
    "else:\n",
    "  print(\"False\")\n",
    "print(\"Hello World!\")\n",
    "def add(a,b):\n",
    "  result = a + b\n",
    "  return result\n",
    "print(\"Chao cac ban!\")\n",
    "print(\"Lê Thanh Hòa\")"
   ]
  }
 ],
 "metadata": {
  "language_info": {
   "name": "python"
  }
 },
 "nbformat": 4,
 "nbformat_minor": 5
}
